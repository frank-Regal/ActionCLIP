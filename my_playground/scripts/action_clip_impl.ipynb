{
 "cells": [
  {
   "cell_type": "code",
   "execution_count": null,
   "metadata": {},
   "outputs": [],
   "source": [
    "from PIL import Image\n",
    "import requests\n",
    "import torch\n",
    "import torchvision\n",
    "from transformers import CLIPProcessor, CLIPModel\n",
    "from transformers import ViTForImageClassification\n",
    "\n",
    "# Set and print device hardware\n",
    "if(torch.cuda.is_available()):\n",
    "    device_hardware = torch.device('cuda')\n",
    "    print(f\"GPU is available\")\n",
    "else:\n",
    "    device_hardware = torch.device('cpu')\n",
    "    print(f\"No GPU is configured\")"
   ]
  },
  {
   "cell_type": "code",
   "execution_count": null,
   "metadata": {},
   "outputs": [],
   "source": [
    "# Initialize the model\n",
    "model = ViTForImageClassification.from_pretrained(\"openai/clip-vit-base-patch16\", low_cpu_mem_usage=True)\n",
    "\n",
    "# Assuming your weights file is in PyTorch's .pt or .pth format\n",
    "weights_path = \"/home/regal/devel/ws_cacti/src/hri_cacti_xr/gesture_recognition/gesture_recogition_research/ActionCLIP/weights/vit-b-16-32f/vit-b-16-32f.pt\"\n",
    "\n",
    "# Load your custom weights\n",
    "model.load_state_dict(torch.load(weights_path))\n",
    "\n",
    "model.eval()"
   ]
  }
 ],
 "metadata": {
  "language_info": {
   "name": "python"
  }
 },
 "nbformat": 4,
 "nbformat_minor": 2
}
