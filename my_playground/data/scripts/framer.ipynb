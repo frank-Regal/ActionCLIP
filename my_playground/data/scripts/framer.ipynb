{
 "cells": [
  {
   "cell_type": "code",
   "execution_count": 44,
   "metadata": {},
   "outputs": [],
   "source": [
    "import cv2\n",
    "import os\n",
    "import sys\n"
   ]
  },
  {
   "cell_type": "code",
   "execution_count": 45,
   "metadata": {},
   "outputs": [],
   "source": [
    "vid_path = \"/project/my_playground/data/vid/go_right_thumb.avi\"\n",
    "out_path = \"/project/my_playground/data/img\"\n",
    "video = cv2.VideoCapture(vid_path)"
   ]
  },
  {
   "cell_type": "code",
   "execution_count": 46,
   "metadata": {},
   "outputs": [
    {
     "name": "stdout",
     "output_type": "stream",
     "text": [
      "go_right_thumb\n"
     ]
    }
   ],
   "source": [
    "vid_name = vid_path.split('/')[-1].split('.')[0]\n",
    "print(vid_name)"
   ]
  },
  {
   "cell_type": "code",
   "execution_count": 47,
   "metadata": {},
   "outputs": [
    {
     "name": "stdout",
     "output_type": "stream",
     "text": [
      "/project/my_playground/data/img/go_right_thumb\n",
      "directory exists\n"
     ]
    }
   ],
   "source": [
    "out_full_path = os.path.join(out_path, vid_name)\n",
    "print(out_full_path)\n",
    "\n",
    "try:\n",
    "    os.mkdir(out_path)\n",
    "    os.mkdir(out_full_path)\n",
    "except OSError:\n",
    "    print(\"directory exists\")"
   ]
  },
  {
   "cell_type": "code",
   "execution_count": 48,
   "metadata": {},
   "outputs": [
    {
     "name": "stdout",
     "output_type": "stream",
     "text": [
      "184\n"
     ]
    }
   ],
   "source": [
    "fcount = int(video.get(cv2.CAP_PROP_FRAME_COUNT))\n",
    "print(fcount)"
   ]
  },
  {
   "cell_type": "code",
   "execution_count": 49,
   "metadata": {},
   "outputs": [
    {
     "name": "stdout",
     "output_type": "stream",
     "text": [
      "go_right_thumb done\n",
      "['/project/my_playground/data/img/go_right_thumb 184 0']\n"
     ]
    }
   ],
   "source": [
    "file_list = []\n",
    "for i in range(0,fcount):\n",
    "    ret, frame = video.read()\n",
    "    assert ret\n",
    "    resized_frame = cv2.resize(frame, (480, 640))\n",
    "    cv2.imwrite('{}/img_{:05d}.jpg'.format(out_full_path, i), resized_frame)\n",
    "    #access_path = '{}/{:05d}.jpg {} 0'.format(out_full_path, i, fcount)\n",
    "access_path = '{} {} {}'.format(out_full_path, fcount, 0)\n",
    "file_list.append(access_path)\n",
    "print('{} done'.format(vid_name))\n",
    "video.release()\n",
    "#sys.stdout.flush()\n",
    "print(file_list)"
   ]
  },
  {
   "cell_type": "code",
   "execution_count": 50,
   "metadata": {},
   "outputs": [
    {
     "name": "stdout",
     "output_type": "stream",
     "text": [
      "['/project/my_playground/data/img/go_right_thumb 184 0']\n"
     ]
    }
   ],
   "source": [
    "print(file_list)"
   ]
  },
  {
   "cell_type": "code",
   "execution_count": null,
   "metadata": {},
   "outputs": [],
   "source": []
  },
  {
   "cell_type": "code",
   "execution_count": null,
   "metadata": {},
   "outputs": [],
   "source": []
  }
 ],
 "metadata": {
  "kernelspec": {
   "display_name": "hri_cacti_py38",
   "language": "python",
   "name": "python3"
  },
  "language_info": {
   "codemirror_mode": {
    "name": "ipython",
    "version": 3
   },
   "file_extension": ".py",
   "mimetype": "text/x-python",
   "name": "python",
   "nbconvert_exporter": "python",
   "pygments_lexer": "ipython3",
   "version": "3.8.10"
  }
 },
 "nbformat": 4,
 "nbformat_minor": 2
}
